{
 "cells": [
  {
   "cell_type": "markdown",
   "id": "961a3fac",
   "metadata": {},
   "source": [
    "## Dictionary:\n",
    "    - It can be represented as \"{}\" by default it is dictionary without any values included in the {}\n",
    "    - It can stores the data in key and value and pairs\n",
    "    - Keys are not duplicate but values can\n",
    "    - It can be typecasted as dict()\n",
    "    - {(key:[value1,value2]),(key:value),}"
   ]
  },
  {
   "cell_type": "code",
   "execution_count": 5,
   "id": "af02b53d",
   "metadata": {},
   "outputs": [
    {
     "name": "stdout",
     "output_type": "stream",
     "text": [
      "{'name': ['Rajesh', 'Kumar'], 'year': '2nd year', 'sage': (45, 78)} <class 'dict'>\n"
     ]
    }
   ],
   "source": [
    "g = {'name':['Rajesh','Kumar'],'year':\"2nd year\",'sage':(45,78)}\n",
    "print(g,type(g))"
   ]
  },
  {
   "cell_type": "code",
   "execution_count": 6,
   "id": "971e4705",
   "metadata": {},
   "outputs": [
    {
     "name": "stdout",
     "output_type": "stream",
     "text": [
      "['__class__', '__class_getitem__', '__contains__', '__delattr__', '__delitem__', '__dir__', '__doc__', '__eq__', '__format__', '__ge__', '__getattribute__', '__getitem__', '__gt__', '__hash__', '__init__', '__init_subclass__', '__ior__', '__iter__', '__le__', '__len__', '__lt__', '__ne__', '__new__', '__or__', '__reduce__', '__reduce_ex__', '__repr__', '__reversed__', '__ror__', '__setattr__', '__setitem__', '__sizeof__', '__str__', '__subclasshook__', 'clear', 'copy', 'fromkeys', 'get', 'items', 'keys', 'pop', 'popitem', 'setdefault', 'update', 'values']\n"
     ]
    }
   ],
   "source": [
    "print(dir(dict))"
   ]
  },
  {
   "cell_type": "code",
   "execution_count": 7,
   "id": "48f2dc1f",
   "metadata": {},
   "outputs": [
    {
     "name": "stdout",
     "output_type": "stream",
     "text": [
      "dict_keys(['name', 'year', 'sage'])\n"
     ]
    }
   ],
   "source": [
    "print(g.keys())"
   ]
  },
  {
   "cell_type": "code",
   "execution_count": 8,
   "id": "043a404f",
   "metadata": {},
   "outputs": [
    {
     "name": "stdout",
     "output_type": "stream",
     "text": [
      "dict_values([['Rajesh', 'Kumar'], '2nd year', (45, 78)])\n"
     ]
    }
   ],
   "source": [
    "print(g.values())"
   ]
  },
  {
   "cell_type": "code",
   "execution_count": 11,
   "id": "8da4da6e",
   "metadata": {},
   "outputs": [
    {
     "name": "stdout",
     "output_type": "stream",
     "text": [
      "('name', ['Rajesh', 'Kumar']) <class 'tuple'>\n",
      "('year', '2nd year') <class 'tuple'>\n",
      "('sage', (45, 78)) <class 'tuple'>\n"
     ]
    }
   ],
   "source": [
    "for i in g.items():\n",
    "    print(i,type(i))"
   ]
  },
  {
   "cell_type": "code",
   "execution_count": 10,
   "id": "d7dd9944",
   "metadata": {},
   "outputs": [
    {
     "name": "stdout",
     "output_type": "stream",
     "text": [
      "dict_items([('name', ['Rajesh', 'Kumar']), ('year', '2nd year'), ('sage', (45, 78))])\n"
     ]
    }
   ],
   "source": [
    "print(g.items())"
   ]
  },
  {
   "cell_type": "code",
   "execution_count": 12,
   "id": "d6a7104c",
   "metadata": {},
   "outputs": [
    {
     "name": "stdout",
     "output_type": "stream",
     "text": [
      "['Rajesh', 'Kumar']\n"
     ]
    }
   ],
   "source": [
    "print(g.get('name'))"
   ]
  },
  {
   "cell_type": "code",
   "execution_count": 13,
   "id": "05f21dce",
   "metadata": {},
   "outputs": [
    {
     "name": "stdout",
     "output_type": "stream",
     "text": [
      "['Rajesh', 'Kumar']\n"
     ]
    }
   ],
   "source": [
    "print(g['name'])"
   ]
  },
  {
   "cell_type": "code",
   "execution_count": 14,
   "id": "db13289d",
   "metadata": {},
   "outputs": [
    {
     "name": "stdout",
     "output_type": "stream",
     "text": [
      "{'name': ['Rajesh', 'Kumar'], 'year': '2nd year', 'sage': (45, 78)}\n"
     ]
    }
   ],
   "source": [
    "print(g)"
   ]
  },
  {
   "cell_type": "code",
   "execution_count": 15,
   "id": "cee0bf3e",
   "metadata": {},
   "outputs": [
    {
     "name": "stdout",
     "output_type": "stream",
     "text": [
      "{'name': ['Rajesh', 'Kumar'], 'year': '2nd year', 'sage': (45, 78), 'branch': None}\n"
     ]
    }
   ],
   "source": [
    "g.setdefault('branch')\n",
    "print(g)"
   ]
  },
  {
   "cell_type": "code",
   "execution_count": 18,
   "id": "98a874aa",
   "metadata": {},
   "outputs": [
    {
     "data": {
      "text/plain": [
       "'Nlore'"
      ]
     },
     "execution_count": 18,
     "metadata": {},
     "output_type": "execute_result"
    }
   ],
   "source": [
    "g.setdefault('Area','Nlore')"
   ]
  },
  {
   "cell_type": "code",
   "execution_count": 19,
   "id": "ad9f4843",
   "metadata": {},
   "outputs": [
    {
     "name": "stdout",
     "output_type": "stream",
     "text": [
      "{'name': ['Rajesh', 'Kumar'], 'year': '2nd year', 'sage': (45, 78), 'branch': None, 'Area': 'Nlore'}\n"
     ]
    }
   ],
   "source": [
    "print(g)"
   ]
  },
  {
   "cell_type": "code",
   "execution_count": 20,
   "id": "17138500",
   "metadata": {},
   "outputs": [
    {
     "name": "stdout",
     "output_type": "stream",
     "text": [
      "{'name': ['Rajesh', 'Kumar'], 'year': '2nd year', 'sage': (45, 78), 'branch': None, 'Area': 'Nlore'}\n",
      "{'name': ['Rajesh', 'Kumar'], 'year': '2nd year', 'sage': (45, 78), 'branch': None, 'Area': 'Guntur'}\n"
     ]
    }
   ],
   "source": [
    "print(g)\n",
    "g['Area'] = 'Guntur'\n",
    "print(g)"
   ]
  },
  {
   "cell_type": "code",
   "execution_count": 22,
   "id": "41d9bf5a",
   "metadata": {},
   "outputs": [
    {
     "name": "stdout",
     "output_type": "stream",
     "text": [
      "{'name': ['Rajesh', 'Kumar'], 'year': '2nd year', 'sage': '45', 'branch': None, 'Area': 'Guntur'}\n",
      "{'name': ['Rajesh', 'Kumar'], 'year': '2nd year', 'sage': '45', 'branch': 'EEE', 'Area': 'Guntur'}\n"
     ]
    }
   ],
   "source": [
    "print(g)\n",
    "g.update(branch='EEE')\n",
    "print(g)"
   ]
  },
  {
   "cell_type": "code",
   "execution_count": 23,
   "id": "5d10e11e",
   "metadata": {},
   "outputs": [
    {
     "name": "stdout",
     "output_type": "stream",
     "text": [
      "{'name': ['Rajesh', 'Kumar'], 'year': '2nd year', 'sage': '45', 'branch': 'EEE', 'Area': 'Guntur'}\n",
      "{'name': ['Rajesh', 'Kumar'], 'year': '2nd year', 'sage': '45', 'branch': 'EEE', 'Area': 'Guntur'}\n"
     ]
    }
   ],
   "source": [
    "k = g.copy()\n",
    "print(g)\n",
    "print(k)"
   ]
  },
  {
   "cell_type": "code",
   "execution_count": 24,
   "id": "e817cf62",
   "metadata": {},
   "outputs": [
    {
     "name": "stdout",
     "output_type": "stream",
     "text": [
      "{'name': ['Rajesh', 'Kumar'], 'year': '2nd year', 'sage': '45', 'branch': 'EEE', 'Area': 'Guntur'}\n",
      "{'name': ['Rajesh', 'Kumar'], 'year': '2nd year', 'sage': '45', 'branch': 'EEE'}\n"
     ]
    }
   ],
   "source": [
    "print(g)\n",
    "g.popitem()\n",
    "print(g)"
   ]
  },
  {
   "cell_type": "code",
   "execution_count": 25,
   "id": "74f9632f",
   "metadata": {},
   "outputs": [
    {
     "name": "stdout",
     "output_type": "stream",
     "text": [
      "{'name': ['Rajesh', 'Kumar'], 'year': '2nd year', 'sage': '45', 'branch': 'EEE'}\n",
      "{'name': ['Rajesh', 'Kumar'], 'sage': '45', 'branch': 'EEE'}\n"
     ]
    }
   ],
   "source": [
    "print(g)\n",
    "g.pop('year')\n",
    "print(g)"
   ]
  },
  {
   "cell_type": "code",
   "execution_count": 26,
   "id": "0987a510",
   "metadata": {},
   "outputs": [
    {
     "name": "stdout",
     "output_type": "stream",
     "text": [
      "{'name': ['Rajesh', 'Kumar'], 'sage': '45', 'branch': 'EEE'}\n",
      "{}\n"
     ]
    }
   ],
   "source": [
    "print(g)\n",
    "g.clear()\n",
    "print(g)"
   ]
  },
  {
   "cell_type": "markdown",
   "id": "fc0a4905",
   "metadata": {},
   "source": [
    "## Set:\n",
    "    - It can be represented as \"{}\" with some data type values in it\n",
    "    - It stores the data in unorder format\n",
    "    - It doesnt allow duplicate values\n",
    "    - Slicing can't be done because of no index\n",
    "    - It can be typecasted as set()\n",
    "    - Values can be changes"
   ]
  },
  {
   "cell_type": "code",
   "execution_count": 31,
   "id": "62672160",
   "metadata": {},
   "outputs": [
    {
     "data": {
      "text/plain": [
       "{4, '4.02', '4.2', 45, 5, 54, 89.05451, False, 'Lalitha'}"
      ]
     },
     "execution_count": 31,
     "metadata": {},
     "output_type": "execute_result"
    }
   ],
   "source": [
    "w = {45,89.05451,'Lalitha',False,54,45,4,5,45,4,5,'4.2','4.02'}\n",
    "# print(w,type(w))\n",
    "w"
   ]
  },
  {
   "cell_type": "code",
   "execution_count": 32,
   "id": "d6cf693f",
   "metadata": {},
   "outputs": [
    {
     "name": "stdout",
     "output_type": "stream",
     "text": [
      "['__and__', '__class__', '__class_getitem__', '__contains__', '__delattr__', '__dir__', '__doc__', '__eq__', '__format__', '__ge__', '__getattribute__', '__gt__', '__hash__', '__iand__', '__init__', '__init_subclass__', '__ior__', '__isub__', '__iter__', '__ixor__', '__le__', '__len__', '__lt__', '__ne__', '__new__', '__or__', '__rand__', '__reduce__', '__reduce_ex__', '__repr__', '__ror__', '__rsub__', '__rxor__', '__setattr__', '__sizeof__', '__str__', '__sub__', '__subclasshook__', '__xor__', 'add', 'clear', 'copy', 'difference', 'difference_update', 'discard', 'intersection', 'intersection_update', 'isdisjoint', 'issubset', 'issuperset', 'pop', 'remove', 'symmetric_difference', 'symmetric_difference_update', 'union', 'update']\n"
     ]
    }
   ],
   "source": [
    "print(dir(set))"
   ]
  },
  {
   "cell_type": "code",
   "execution_count": 33,
   "id": "5c250a9f",
   "metadata": {},
   "outputs": [
    {
     "name": "stdout",
     "output_type": "stream",
     "text": [
      "{96, 5, 8, 45, 78}\n",
      "{100, 45, 500, 5}\n"
     ]
    }
   ],
   "source": [
    "s1 = {45,78,96,8,5}\n",
    "s2 = {45,5,100,500}\n",
    "print(s1)\n",
    "print(s2)"
   ]
  },
  {
   "cell_type": "code",
   "execution_count": 34,
   "id": "883fb122",
   "metadata": {},
   "outputs": [
    {
     "name": "stdout",
     "output_type": "stream",
     "text": [
      "{96, 5, 8, 45, 78}\n",
      "{100, 45, 500, 5}\n",
      "{96, 100, 5, 8, 45, 78, 500}\n",
      "{96, 5, 8, 45, 78}\n",
      "{100, 45, 500, 5}\n"
     ]
    }
   ],
   "source": [
    "print(s1)\n",
    "print(s2)\n",
    "print(s1.union(s2))\n",
    "print(s1)\n",
    "print(s2)"
   ]
  },
  {
   "cell_type": "code",
   "execution_count": 35,
   "id": "c8b03dcf",
   "metadata": {},
   "outputs": [
    {
     "name": "stdout",
     "output_type": "stream",
     "text": [
      "{96, 5, 8, 45, 78}\n",
      "{100, 45, 500, 5}\n",
      "{5, 45}\n",
      "{96, 5, 8, 45, 78}\n",
      "{100, 45, 500, 5}\n"
     ]
    }
   ],
   "source": [
    "print(s1)\n",
    "print(s2)\n",
    "print(s1.intersection(s2))\n",
    "print(s1)\n",
    "print(s2)"
   ]
  },
  {
   "cell_type": "code",
   "execution_count": 36,
   "id": "6739c627",
   "metadata": {},
   "outputs": [
    {
     "name": "stdout",
     "output_type": "stream",
     "text": [
      "{96, 5, 8, 45, 78}\n",
      "{100, 45, 500, 5}\n",
      "{96, 8, 78}\n",
      "{96, 5, 8, 45, 78}\n",
      "{100, 45, 500, 5}\n"
     ]
    }
   ],
   "source": [
    "print(s1)\n",
    "print(s2)\n",
    "print(s1.difference(s2))\n",
    "print(s1)\n",
    "print(s2)"
   ]
  },
  {
   "cell_type": "code",
   "execution_count": 40,
   "id": "d80becfb",
   "metadata": {},
   "outputs": [
    {
     "name": "stdout",
     "output_type": "stream",
     "text": [
      "{96, 5, 8, 45, 78}\n",
      "{100, 45, 500, 5}\n",
      "{96, 450, 5, 8, 45, 78}\n",
      "{100, 45, 500, 5}\n"
     ]
    }
   ],
   "source": [
    "print(s1)\n",
    "print(s2)\n",
    "s1.add(450)\n",
    "print(s1)\n",
    "print(s2)"
   ]
  },
  {
   "cell_type": "code",
   "execution_count": 41,
   "id": "fd5336df",
   "metadata": {},
   "outputs": [
    {
     "name": "stdout",
     "output_type": "stream",
     "text": [
      "{96, 450, 5, 8, 45, 78}\n",
      "{100, 45, 500, 5}\n",
      "{96, 450, 100, 8, 78, 500}\n",
      "{96, 450, 5, 8, 45, 78}\n",
      "{100, 45, 500, 5}\n"
     ]
    }
   ],
   "source": [
    "print(s1)\n",
    "print(s2)\n",
    "print(s1.symmetric_difference(s2))\n",
    "print(s1)\n",
    "print(s2)"
   ]
  },
  {
   "cell_type": "code",
   "execution_count": 42,
   "id": "74dda97f",
   "metadata": {},
   "outputs": [
    {
     "name": "stdout",
     "output_type": "stream",
     "text": [
      "{96, 450, 5, 8, 45, 78}\n",
      "{100, 45, 500, 5}\n",
      "None\n",
      "{5, 45}\n",
      "{100, 45, 500, 5}\n"
     ]
    }
   ],
   "source": [
    "print(s1)\n",
    "print(s2)\n",
    "s1.intersection_update(s2)\n",
    "print(s1)\n",
    "print(s2)"
   ]
  },
  {
   "cell_type": "code",
   "execution_count": 43,
   "id": "71186bd5",
   "metadata": {},
   "outputs": [
    {
     "name": "stdout",
     "output_type": "stream",
     "text": [
      "{2, 3, 89, 45, 78}\n",
      "{89, 500, 45}\n",
      "{2, 3, 89, 45, 78}\n",
      "{500}\n"
     ]
    }
   ],
   "source": [
    "p1 = {45,78,3,2,89}\n",
    "p2 = {45,89,500}\n",
    "print(p1)\n",
    "print(p2)\n",
    "p2.difference_update(p1)\n",
    "print(p1)\n",
    "print(p2)"
   ]
  },
  {
   "cell_type": "markdown",
   "id": "8839ba1e",
   "metadata": {},
   "source": [
    "## String:\n",
    "    - It can be represented as ' or \" \n",
    "    - It can be typecasted as str()\n",
    "    - Slicing can be done because of index\n",
    "    - Value can be changes \n",
    "    - Duplicate values can be allowed"
   ]
  },
  {
   "cell_type": "code",
   "execution_count": 52,
   "id": "aa8dd3bd",
   "metadata": {},
   "outputs": [
    {
     "name": "stdout",
     "output_type": "stream",
     "text": [
      "str(object='') -> str\n",
      "str(bytes_or_buffer[, encoding[, errors]]) -> str\n",
      "\n",
      "Create a new string object from the given object. If encoding or\n",
      "errors is specified, then the object must expose a data buffer\n",
      "that will be decoded using the given encoding and error handler.\n",
      "Otherwise, returns the result of object.__str__() (if defined)\n",
      "or repr(object).\n",
      "encoding defaults to sys.getdefaultencoding().\n",
      "errors defaults to 'strict'.\n"
     ]
    }
   ],
   "source": [
    "print(str.__doc__)"
   ]
  },
  {
   "cell_type": "code",
   "execution_count": 53,
   "id": "1a2933d8",
   "metadata": {},
   "outputs": [
    {
     "name": "stdout",
     "output_type": "stream",
     "text": [
      "['__add__', '__class__', '__contains__', '__delattr__', '__dir__', '__doc__', '__eq__', '__format__', '__ge__', '__getattribute__', '__getitem__', '__getnewargs__', '__gt__', '__hash__', '__init__', '__init_subclass__', '__iter__', '__le__', '__len__', '__lt__', '__mod__', '__mul__', '__ne__', '__new__', '__reduce__', '__reduce_ex__', '__repr__', '__rmod__', '__rmul__', '__setattr__', '__sizeof__', '__str__', '__subclasshook__', 'capitalize', 'casefold', 'center', 'count', 'encode', 'endswith', 'expandtabs', 'find', 'format', 'format_map', 'index', 'isalnum', 'isalpha', 'isascii', 'isdecimal', 'isdigit', 'isidentifier', 'islower', 'isnumeric', 'isprintable', 'isspace', 'istitle', 'isupper', 'join', 'ljust', 'lower', 'lstrip', 'maketrans', 'partition', 'removeprefix', 'removesuffix', 'replace', 'rfind', 'rindex', 'rjust', 'rpartition', 'rsplit', 'rstrip', 'split', 'splitlines', 'startswith', 'strip', 'swapcase', 'title', 'translate', 'upper', 'zfill']\n"
     ]
    }
   ],
   "source": [
    "print(dir(str))"
   ]
  },
  {
   "cell_type": "code",
   "execution_count": 55,
   "id": "77856ae4",
   "metadata": {},
   "outputs": [
    {
     "name": "stdout",
     "output_type": "stream",
     "text": [
      "Good MorNing tO All... <class 'str'>\n",
      "Good Morning To All...\n",
      "gOOD mORnING To aLL...\n",
      "Good morning to all...\n",
      "good morning to all...\n"
     ]
    }
   ],
   "source": [
    "k = \"Good MorNing tO All...\"\n",
    "print(k,type(k))\n",
    "print(k.title())\n",
    "print(k.swapcase())\n",
    "print(k.capitalize())\n",
    "print(k.casefold())"
   ]
  },
  {
   "cell_type": "code",
   "execution_count": 56,
   "id": "4a654999",
   "metadata": {},
   "outputs": [
    {
     "name": "stdout",
     "output_type": "stream",
     "text": [
      "Good MorNing tO All...\n",
      "GOOD MORNING TO ALL...\n",
      "good morning to all...\n"
     ]
    }
   ],
   "source": [
    "print(k)\n",
    "print(k.upper())\n",
    "print(k.lower())"
   ]
  },
  {
   "cell_type": "code",
   "execution_count": 57,
   "id": "4ea6f7c3",
   "metadata": {},
   "outputs": [
    {
     "name": "stdout",
     "output_type": "stream",
     "text": [
      "    This is an example for strip\n",
      "Sample example for strip    \n"
     ]
    }
   ],
   "source": [
    "h = \"    This is an example for strip\"\n",
    "p = \"Sample example for strip    \"\n",
    "print(h)\n",
    "print(p)"
   ]
  },
  {
   "cell_type": "code",
   "execution_count": 60,
   "id": "24a40c0c",
   "metadata": {},
   "outputs": [
    {
     "name": "stdout",
     "output_type": "stream",
     "text": [
      "This is an example for strip\n",
      "Sample example for strip\n",
      "This is an example for strip\n",
      "Sample example for strip\n"
     ]
    }
   ],
   "source": [
    "print(h.strip())\n",
    "print(p.strip())\n",
    "print(h.lstrip())\n",
    "print(p.rstrip())"
   ]
  },
  {
   "cell_type": "code",
   "execution_count": 61,
   "id": "df619c11",
   "metadata": {},
   "outputs": [
    {
     "name": "stdout",
     "output_type": "stream",
     "text": [
      "['This', 'is', 'an', 'example', 'for', 'strip']\n",
      "['Sampl', ' ', 'xampl', ' for strip    ']\n"
     ]
    }
   ],
   "source": [
    "print(h.split())\n",
    "print(p.split('e'))"
   ]
  },
  {
   "cell_type": "code",
   "execution_count": 65,
   "id": "a7246fd4",
   "metadata": {},
   "outputs": [
    {
     "name": "stdout",
     "output_type": "stream",
     "text": [
      "10,78,56,23\n",
      "['10', '78', '56', '23'] <class 'list'>\n",
      "10 <class 'int'>\n"
     ]
    }
   ],
   "source": [
    "m = input().split(\",\")\n",
    "print(m,type(m))\n",
    "print(int(m[0]),type(int(m[0])))"
   ]
  },
  {
   "cell_type": "code",
   "execution_count": 78,
   "id": "fccbf306",
   "metadata": {},
   "outputs": [
    {
     "name": "stdout",
     "output_type": "stream",
     "text": [
      "['t', 'r', 'a', 'G', 'f', 'd', 'o', 'e', 'n']\n"
     ]
    }
   ],
   "source": [
    "a = \"Good afternoon\"\n",
    "b = []\n",
    "a = '-'.join(a)\n",
    "p = a.split('-')\n",
    "for i in p:\n",
    "    if i !=' ':\n",
    "        b.append(i)\n",
    "print(list(set(b)))"
   ]
  },
  {
   "cell_type": "code",
   "execution_count": 87,
   "id": "072e8a81",
   "metadata": {},
   "outputs": [
    {
     "name": "stdout",
     "output_type": "stream",
     "text": [
      "Welcome to APSSDC Program\n",
      "Welcome to APSSDC Program                         \n",
      "                         Welcome to APSSDC Program\n",
      "0000000000000000000000000Welcome to APSSDC Program\n",
      "            Welcome to APSSDC Program             \n"
     ]
    }
   ],
   "source": [
    "k = \"Welcome to APSSDC Program\"\n",
    "print(k)\n",
    "print(k.ljust(50))\n",
    "print(k.rjust(50))\n",
    "print(k.zfill(50))\n",
    "print(k.center(50))"
   ]
  },
  {
   "cell_type": "code",
   "execution_count": 92,
   "id": "522da74b",
   "metadata": {},
   "outputs": [
    {
     "name": "stdout",
     "output_type": "stream",
     "text": [
      "Welcome to APSSDC Program\n",
      "1\n",
      "1\n",
      "6\n",
      "6\n"
     ]
    }
   ],
   "source": [
    "print(k)\n",
    "print(k.index('e'))\n",
    "print(k.find('e'))\n",
    "print(k.rindex('e'))\n",
    "print(k.rfind('e'))"
   ]
  },
  {
   "cell_type": "code",
   "execution_count": 85,
   "id": "a3aecf92",
   "metadata": {},
   "outputs": [
    {
     "ename": "ValueError",
     "evalue": "substring not found",
     "output_type": "error",
     "traceback": [
      "\u001b[1;31m---------------------------------------------------------------------------\u001b[0m",
      "\u001b[1;31mValueError\u001b[0m                                Traceback (most recent call last)",
      "Cell \u001b[1;32mIn[85], line 1\u001b[0m\n\u001b[1;32m----> 1\u001b[0m \u001b[38;5;28mprint\u001b[39m(\u001b[43mk\u001b[49m\u001b[38;5;241;43m.\u001b[39;49m\u001b[43mindex\u001b[49m\u001b[43m(\u001b[49m\u001b[38;5;124;43m'\u001b[39;49m\u001b[38;5;124;43mz\u001b[39;49m\u001b[38;5;124;43m'\u001b[39;49m\u001b[43m)\u001b[49m)\n",
      "\u001b[1;31mValueError\u001b[0m: substring not found"
     ]
    }
   ],
   "source": [
    "print(k.index('z'))"
   ]
  },
  {
   "cell_type": "code",
   "execution_count": 86,
   "id": "97d31b54",
   "metadata": {},
   "outputs": [
    {
     "ename": "ValueError",
     "evalue": "substring not found",
     "output_type": "error",
     "traceback": [
      "\u001b[1;31m---------------------------------------------------------------------------\u001b[0m",
      "\u001b[1;31mValueError\u001b[0m                                Traceback (most recent call last)",
      "Cell \u001b[1;32mIn[86], line 1\u001b[0m\n\u001b[1;32m----> 1\u001b[0m \u001b[38;5;28mprint\u001b[39m(\u001b[43mk\u001b[49m\u001b[38;5;241;43m.\u001b[39;49m\u001b[43mrindex\u001b[49m\u001b[43m(\u001b[49m\u001b[38;5;124;43m'\u001b[39;49m\u001b[38;5;124;43mz\u001b[39;49m\u001b[38;5;124;43m'\u001b[39;49m\u001b[43m)\u001b[49m)\n",
      "\u001b[1;31mValueError\u001b[0m: substring not found"
     ]
    }
   ],
   "source": [
    "print(k.rindex('z'))"
   ]
  },
  {
   "cell_type": "code",
   "execution_count": 94,
   "id": "02e812a4",
   "metadata": {},
   "outputs": [
    {
     "name": "stdout",
     "output_type": "stream",
     "text": [
      "-1\n",
      "-1\n"
     ]
    }
   ],
   "source": [
    "print(k.find('Z'))\n",
    "print(k.rfind('Z'))"
   ]
  },
  {
   "cell_type": "code",
   "execution_count": 90,
   "id": "4e4a8422",
   "metadata": {},
   "outputs": [
    {
     "name": "stdout",
     "output_type": "stream",
     "text": [
      "prasad 2403608541936\n",
      "prgsgd 2403610054704\n"
     ]
    }
   ],
   "source": [
    "d = \"prasad\"\n",
    "print(d,id(d))\n",
    "d = d.replace('a','g')\n",
    "print(d,id(d))"
   ]
  },
  {
   "cell_type": "code",
   "execution_count": null,
   "id": "9a6a9199",
   "metadata": {},
   "outputs": [],
   "source": []
  }
 ],
 "metadata": {
  "kernelspec": {
   "display_name": "Python 3 (ipykernel)",
   "language": "python",
   "name": "python3"
  },
  "language_info": {
   "codemirror_mode": {
    "name": "ipython",
    "version": 3
   },
   "file_extension": ".py",
   "mimetype": "text/x-python",
   "name": "python",
   "nbconvert_exporter": "python",
   "pygments_lexer": "ipython3",
   "version": "3.9.13"
  }
 },
 "nbformat": 4,
 "nbformat_minor": 5
}
