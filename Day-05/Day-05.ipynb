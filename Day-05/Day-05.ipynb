{
 "cells": [
  {
   "cell_type": "code",
   "execution_count": 5,
   "id": "c5b35f41",
   "metadata": {},
   "outputs": [
    {
     "name": "stdout",
     "output_type": "stream",
     "text": [
      "Enter start range: -10\n",
      "Enter stop range: -20\n",
      "Enter step range: 2\n"
     ]
    }
   ],
   "source": [
    "n,m,k = int(input(\"Enter start range: \")),int(input(\"Enter stop range: \")),int(input(\"Enter step range: \"))\n",
    "for i in range(n,m,k):\n",
    "    print(i,end=\" \")"
   ]
  },
  {
   "cell_type": "markdown",
   "id": "802be28c",
   "metadata": {},
   "source": [
    "## While:\n",
    "    Syntax:\n",
    "        variableinitialization\n",
    "        while condition:\n",
    "            //stmnts\n",
    "            incr/decr"
   ]
  },
  {
   "cell_type": "code",
   "execution_count": 3,
   "id": "75463809",
   "metadata": {},
   "outputs": [
    {
     "name": "stdout",
     "output_type": "stream",
     "text": [
      "Enter a range: 10\n",
      "1 2 3 4 5 6 7 8 9 10 "
     ]
    }
   ],
   "source": [
    "v = int(input(\"Enter a range: \"))\n",
    "i = 0\n",
    "while i<v:\n",
    "    i +=1\n",
    "    print(i,end=\" \")"
   ]
  },
  {
   "cell_type": "code",
   "execution_count": 5,
   "id": "54841aa8",
   "metadata": {},
   "outputs": [
    {
     "name": "stdout",
     "output_type": "stream",
     "text": [
      "Enter start range: 200\n",
      "Enter end range: 250\n",
      "201 202 203 204 205 206 207 208 209 210 211 212 213 214 215 216 217 218 219 220 221 222 223 224 225 226 227 228 229 230 231 232 233 234 235 236 237 238 239 240 241 242 243 244 245 246 247 248 249 250 "
     ]
    }
   ],
   "source": [
    "i = int(input(\"Enter start range: \"))\n",
    "v = int(input(\"Enter end range: \"))\n",
    "while i<v:\n",
    "    i +=1\n",
    "    print(i,end=\" \")"
   ]
  },
  {
   "cell_type": "code",
   "execution_count": 10,
   "id": "4363f2cf",
   "metadata": {},
   "outputs": [
    {
     "name": "stdout",
     "output_type": "stream",
     "text": [
      "Enter ending range: 10\n",
      "10 9 8 7 6 5 4 3 2 1 "
     ]
    }
   ],
   "source": [
    "k = int(input(\"Enter ending range: \"))\n",
    "j = 0\n",
    "while k>j:\n",
    "    print(k,end=\" \")\n",
    "    k -=1"
   ]
  },
  {
   "cell_type": "markdown",
   "id": "ddc59a2f",
   "metadata": {},
   "source": [
    "## Jumping Statements:\n",
    "    - break => It exists from a loop\n",
    "    - continue => It skips a value from a loop\n",
    "    - pass => It works like continue but in functions it states for further enhancements\n",
    "    - return => It returns single or multiple values from a function"
   ]
  },
  {
   "cell_type": "code",
   "execution_count": 13,
   "id": "90a52db0",
   "metadata": {},
   "outputs": [
    {
     "name": "stdout",
     "output_type": "stream",
     "text": [
      "Enter a range: 1000\n",
      "0 1 2 3 4 5 "
     ]
    }
   ],
   "source": [
    "n = int(input(\"Enter a range: \"))\n",
    "for i in range(n):\n",
    "    print(i,end=\" \")\n",
    "    if i == 5:\n",
    "        break"
   ]
  },
  {
   "cell_type": "code",
   "execution_count": 17,
   "id": "830d947a",
   "metadata": {},
   "outputs": [
    {
     "name": "stdout",
     "output_type": "stream",
     "text": [
      "Enter a range: 50\n",
      "0 "
     ]
    }
   ],
   "source": [
    "k = int(input(\"Enter a range: \"))\n",
    "for i in range(k):\n",
    "    if i%21!=0:\n",
    "        break\n",
    "    print(i,end=\" \")"
   ]
  },
  {
   "cell_type": "code",
   "execution_count": 19,
   "id": "3776fe2c",
   "metadata": {},
   "outputs": [
    {
     "name": "stdout",
     "output_type": "stream",
     "text": [
      "Enter a range: 20\n",
      "Enter a range number to exit: 10\n",
      "0 is even\n",
      "1\n",
      "2 is even\n",
      "3\n",
      "4 is even\n",
      "5 is divisible by 5\n",
      "6 is even\n",
      "7\n",
      "8 is even\n",
      "9\n"
     ]
    }
   ],
   "source": [
    "n = int(input(\"Enter a range: \"))\n",
    "e = int(input(\"Enter a range number to exit: \"))\n",
    "for i in range(n):\n",
    "    if i == e:\n",
    "        break\n",
    "    elif i%2==0:\n",
    "        print(f\"{i} is even\")\n",
    "    elif i%5==0:\n",
    "        print(f\"{i} is divisible by 5\")\n",
    "    else:\n",
    "        print(i)"
   ]
  },
  {
   "cell_type": "code",
   "execution_count": 22,
   "id": "cb42511c",
   "metadata": {},
   "outputs": [
    {
     "name": "stdout",
     "output_type": "stream",
     "text": [
      "Enter a range: 20\n",
      "1 3 7 9 11 13 17 19 "
     ]
    }
   ],
   "source": [
    "k = int(input(\"Enter a range: \"))\n",
    "for i in range(k):\n",
    "    if i%2==0 or i%5==0:\n",
    "        continue\n",
    "    print(i,end=\" \")"
   ]
  },
  {
   "cell_type": "code",
   "execution_count": 27,
   "id": "d1d15143",
   "metadata": {},
   "outputs": [
    {
     "name": "stdout",
     "output_type": "stream",
     "text": [
      "Enter a range: 20\n",
      "0 1 2 3 4 5 6 7 8 9 10 11 12 13 14 15 16 17 18 19 "
     ]
    }
   ],
   "source": [
    "k = int(input(\"Enter a range: \"))\n",
    "for i in range(k):\n",
    "    if i==5:\n",
    "        pass\n",
    "    print(i,end=\" \")"
   ]
  },
  {
   "cell_type": "code",
   "execution_count": 30,
   "id": "ab1ff5ae",
   "metadata": {},
   "outputs": [
    {
     "name": "stdout",
     "output_type": "stream",
     "text": [
      "1.Addition\n",
      "2.Substraction\n",
      "3.Multiplication\n",
      "4.Exit\n",
      "\n",
      "Enter your Choice: 1\n",
      "Enter First Value: 5\n",
      "Enter Second Value: 6\n",
      "Addition of 5 and 6 is: 11\n",
      "1.Addition\n",
      "2.Substraction\n",
      "3.Multiplication\n",
      "4.Exit\n",
      "\n",
      "Enter your Choice: 6\n",
      "Please Enter Valid Option\n",
      "\n",
      "1.Addition\n",
      "2.Substraction\n",
      "3.Multiplication\n",
      "4.Exit\n",
      "\n",
      "Enter your Choice: 4\n"
     ]
    }
   ],
   "source": [
    "while True:\n",
    "    print(\"1.Addition\\n2.Substraction\\n3.Multiplication\\n4.Exit\\n\")\n",
    "    op = int(input(\"Enter your Choice: \"))\n",
    "    if op == 1:\n",
    "        n = int(input(\"Enter First Value: \"))\n",
    "        m = int(input(\"Enter Second Value: \"))\n",
    "        print(f\"Addition of {n} and {m} is: {n+m}\")\n",
    "    elif op == 4:\n",
    "        break\n",
    "    elif op == 2:\n",
    "        n = int(input(\"Enter First Value: \"))\n",
    "        m = int(input(\"Enter Second Value: \"))\n",
    "        print(f\"Substraction of {n} and {m} is: {n-m}\")\n",
    "    elif op == 3:\n",
    "        n = int(input(\"Enter First Value: \"))\n",
    "        m = int(input(\"Enter Second Value: \"))\n",
    "        print(f\"Multiplication of {n} and {m} is: {n*m}\")\n",
    "    else:\n",
    "        print(\"Please Enter Valid Option\\n\")"
   ]
  },
  {
   "cell_type": "markdown",
   "id": "c2f14c0b",
   "metadata": {},
   "source": [
    "## Inner Loops:\n",
    "    - Loop within a loop\n",
    "    Syntax:\n",
    "        Outerloop:\n",
    "            Innerloop:\n",
    "                //stmnts\n",
    "        "
   ]
  },
  {
   "cell_type": "code",
   "execution_count": 37,
   "id": "6808e9fe",
   "metadata": {},
   "outputs": [
    {
     "name": "stdout",
     "output_type": "stream",
     "text": [
      "Enter size: 5\n",
      "* * * * * \n",
      "* * * * * \n",
      "* * * * * \n",
      "* * * * * \n",
      "* * * * * \n"
     ]
    }
   ],
   "source": [
    "n = int(input(\"Enter size: \"))\n",
    "for i in range(n):\n",
    "    for j in range(n):\n",
    "        print(\"*\",end=\" \")\n",
    "    print()"
   ]
  },
  {
   "cell_type": "code",
   "execution_count": 43,
   "id": "a3765385",
   "metadata": {},
   "outputs": [
    {
     "name": "stdout",
     "output_type": "stream",
     "text": [
      "Enter size: 7\n",
      "* * * * * * * \n",
      "* # # # # # * \n",
      "* # # # # # * \n",
      "* # # # # # * \n",
      "* # # # # # * \n",
      "* # # # # # * \n",
      "* * * * * * * \n"
     ]
    }
   ],
   "source": [
    "n = int(input(\"Enter size: \"))\n",
    "for i in range(n):\n",
    "    for j in range(n):\n",
    "        if i==0 or i==n-1 or j==0 or j==n-1:\n",
    "            print(\"*\",end=\" \")\n",
    "        else:\n",
    "            print(\"#\",end=\" \")\n",
    "    print()"
   ]
  },
  {
   "cell_type": "code",
   "execution_count": 57,
   "id": "5ca912ae",
   "metadata": {},
   "outputs": [
    {
     "name": "stdout",
     "output_type": "stream",
     "text": [
      "() || ## ** () ** () \n",
      "** || ** () ** () ** \n",
      ":: :: :: :: :: :: :: \n",
      "** || ** [] ** ## ** \n",
      "[] || [] \n"
     ]
    }
   ],
   "source": [
    "r = 1\n",
    "for i in range(5):\n",
    "    for j in range(7):\n",
    "        if r>=32:\n",
    "            break\n",
    "        else:\n",
    "            if i == 2:\n",
    "                print(\"::\",end=\" \")\n",
    "            elif j == 1:\n",
    "                print(\"||\",end=\" \")\n",
    "            elif r%2==0:\n",
    "                print(\"**\",end=\" \")\n",
    "            elif r%3==0:\n",
    "                print(\"##\",end=\" \")\n",
    "            elif r<=15:\n",
    "                print(\"()\",end=\" \")\n",
    "            else:\n",
    "                print(\"[]\",end=\" \")\n",
    "        r+=1\n",
    "    print()"
   ]
  },
  {
   "cell_type": "markdown",
   "id": "7300fbda",
   "metadata": {},
   "source": [
    "## Data Structures:\n",
    "    - To organize the data in order or unorder format\n",
    "    - list\n",
    "    - tuple\n",
    "    - set\n",
    "    - dictionary\n",
    "    - string"
   ]
  },
  {
   "cell_type": "markdown",
   "id": "141c8bb8",
   "metadata": {},
   "source": [
    "## List:\n",
    "    - it can be represented as [] and seperated dat types by using ','\n",
    "    - it stores the data in order format\n",
    "    - it can changes the values\n",
    "    - it stores all data type values\n",
    "    - slicing can be done because of index\n",
    "    - it can be typecasted as list()\n",
    "    - it stores duplicate values"
   ]
  },
  {
   "cell_type": "code",
   "execution_count": 62,
   "id": "118c1783",
   "metadata": {},
   "outputs": [
    {
     "name": "stdout",
     "output_type": "stream",
     "text": [
      "[45, 56.0, False, (9+8j), 'Prasad', 45, 45, 45, 4, 5] <class 'list'>\n",
      "False\n"
     ]
    }
   ],
   "source": [
    "k = [45,56.00,False,9+8j,'Prasad',45,45,45,4,5]\n",
    "print(k,type(k))\n",
    "print(k[2])"
   ]
  },
  {
   "cell_type": "markdown",
   "id": "fc501d16",
   "metadata": {},
   "source": [
    "## Slicing:"
   ]
  },
  {
   "cell_type": "code",
   "execution_count": 74,
   "id": "1277525f",
   "metadata": {},
   "outputs": [
    {
     "name": "stdout",
     "output_type": "stream",
     "text": [
      "[45, 8, 9, 6, 5, 5, 4, 31, 2, 2, 0]\n",
      "9\n",
      "2\n",
      "[45, 8, 9, 6, 5, 5, 4, 31, 2, 2, 0]\n",
      "[9, 6, 5, 5, 4, 31, 2, 2, 0]\n",
      "[31, 2, 2, 0]\n",
      "[45, 8, 9, 6]\n",
      "[45, 8, 9, 6, 5, 5, 4, 31, 2]\n",
      "[9, 6, 5, 5, 4]\n",
      "[9, 6, 5, 5, 4, 31]\n",
      "[5, 5]\n",
      "[4, 31]\n"
     ]
    }
   ],
   "source": [
    "m = [45,8,9,6,5,5,4,31,2,2,0]\n",
    "print(m)\n",
    "print(m[2])\n",
    "print(m[-3])\n",
    "print(m[:])\n",
    "print(m[2:])\n",
    "print(m[-4:])\n",
    "print(m[:4])\n",
    "print(m[:-2])\n",
    "print(m[2:7])\n",
    "print(m[2:-3])\n",
    "print(m[-7:6])\n",
    "print(m[-5:-3])"
   ]
  },
  {
   "cell_type": "code",
   "execution_count": 78,
   "id": "81961717",
   "metadata": {},
   "outputs": [
    {
     "name": "stdout",
     "output_type": "stream",
     "text": [
      "[78, 8, 5, 6, 9, 8, 5, 2, 5, 5, 2, 5]\n",
      "[78, 8, 5, 6, 9, 8, 5, 2, 5, 5, 2, 5]\n",
      "[6, 9, 8, 5, 2, 5, 5, 2, 5]\n",
      "[2, 5, 5, 2, 5]\n",
      "[5, 2, 5, 5, 2, 5, 8, 9, 6, 5, 8, 78]\n"
     ]
    }
   ],
   "source": [
    "n = [78,8,5,6,9,8,5,2,5,5,2,5]\n",
    "print(n)\n",
    "print(n[::])\n",
    "print(n[3::])\n",
    "print(n[-5::])\n",
    "print(n[::-1])"
   ]
  },
  {
   "cell_type": "code",
   "execution_count": 81,
   "id": "ff78d6c8",
   "metadata": {},
   "outputs": [
    {
     "name": "stdout",
     "output_type": "stream",
     "text": [
      "['__add__', '__class__', '__class_getitem__', '__contains__', '__delattr__', '__delitem__', '__dir__', '__doc__', '__eq__', '__format__', '__ge__', '__getattribute__', '__getitem__', '__gt__', '__hash__', '__iadd__', '__imul__', '__init__', '__init_subclass__', '__iter__', '__le__', '__len__', '__lt__', '__mul__', '__ne__', '__new__', '__reduce__', '__reduce_ex__', '__repr__', '__reversed__', '__rmul__', '__setattr__', '__setitem__', '__sizeof__', '__str__', '__subclasshook__', 'append', 'clear', 'copy', 'count', 'extend', 'index', 'insert', 'pop', 'remove', 'reverse', 'sort']\n"
     ]
    }
   ],
   "source": [
    "print(dir(list))"
   ]
  },
  {
   "cell_type": "code",
   "execution_count": 93,
   "id": "9b5dc990",
   "metadata": {},
   "outputs": [
    {
     "name": "stdout",
     "output_type": "stream",
     "text": [
      "[20, 85]\n",
      "[20, 85, [45, 'Prasad']]\n"
     ]
    }
   ],
   "source": [
    "k = [20,85]\n",
    "print(k)\n",
    "k.append([45,'Prasad'])\n",
    "print(k)"
   ]
  },
  {
   "cell_type": "code",
   "execution_count": 88,
   "id": "e7954917",
   "metadata": {},
   "outputs": [
    {
     "name": "stdout",
     "output_type": "stream",
     "text": [
      "[20, 85, [67, 78]]\n",
      "78\n"
     ]
    }
   ],
   "source": [
    "print(k)\n",
    "print(k[2][1])"
   ]
  },
  {
   "cell_type": "code",
   "execution_count": 99,
   "id": "05617def",
   "metadata": {},
   "outputs": [
    {
     "name": "stdout",
     "output_type": "stream",
     "text": [
      "[12, 78, 56]\n",
      "[12, 78, 56, 45, 'Ramesh']\n"
     ]
    }
   ],
   "source": [
    "m = [12,78,56]\n",
    "print(m)\n",
    "m.extend([45,'Ramesh'])\n",
    "print(m)"
   ]
  },
  {
   "cell_type": "code",
   "execution_count": 101,
   "id": "f5fe1460",
   "metadata": {},
   "outputs": [
    {
     "name": "stdout",
     "output_type": "stream",
     "text": [
      "['Suresh', 12, 78, 56, 45, 'Ramesh']\n",
      "[['Suresh', 45], 'Suresh', 12, 78, 56, 45, 'Ramesh']\n"
     ]
    }
   ],
   "source": [
    "print(m)\n",
    "m.insert(0,[\"Suresh\",45])\n",
    "print(m)"
   ]
  },
  {
   "cell_type": "code",
   "execution_count": 102,
   "id": "22b7c138",
   "metadata": {},
   "outputs": [
    {
     "name": "stdout",
     "output_type": "stream",
     "text": [
      "[['Suresh', 45], 'Suresh', 12, 78, 56, 45, 'Ramesh']\n",
      "[['Suresh', 45], 'Suresh', 12, 78, 56, 45]\n"
     ]
    }
   ],
   "source": [
    "print(m)\n",
    "m.pop()\n",
    "print(m)"
   ]
  },
  {
   "cell_type": "code",
   "execution_count": 103,
   "id": "aab1403b",
   "metadata": {},
   "outputs": [
    {
     "name": "stdout",
     "output_type": "stream",
     "text": [
      "[['Suresh', 45], 'Suresh', 12, 78, 56, 45]\n",
      "['Suresh', 12, 78, 56, 45]\n"
     ]
    }
   ],
   "source": [
    "print(m)\n",
    "m.pop(0)\n",
    "print(m)"
   ]
  },
  {
   "cell_type": "code",
   "execution_count": 105,
   "id": "b2b50524",
   "metadata": {},
   "outputs": [
    {
     "name": "stdout",
     "output_type": "stream",
     "text": [
      "['Suresh', 12, 78, 56, 45]\n",
      "['Suresh', 12, 56, 45]\n"
     ]
    }
   ],
   "source": [
    "print(m)\n",
    "m.remove(78)\n",
    "print(m)"
   ]
  },
  {
   "cell_type": "code",
   "execution_count": 106,
   "id": "5b80533d",
   "metadata": {},
   "outputs": [
    {
     "name": "stdout",
     "output_type": "stream",
     "text": [
      "['Suresh', 12, 56, 45]\n"
     ]
    },
    {
     "ename": "ValueError",
     "evalue": "list.remove(x): x not in list",
     "output_type": "error",
     "traceback": [
      "\u001b[1;31m---------------------------------------------------------------------------\u001b[0m",
      "\u001b[1;31mValueError\u001b[0m                                Traceback (most recent call last)",
      "Cell \u001b[1;32mIn[106], line 2\u001b[0m\n\u001b[0;32m      1\u001b[0m \u001b[38;5;28mprint\u001b[39m(m)\n\u001b[1;32m----> 2\u001b[0m \u001b[43mm\u001b[49m\u001b[38;5;241;43m.\u001b[39;49m\u001b[43mremove\u001b[49m\u001b[43m(\u001b[49m\u001b[38;5;241;43m400\u001b[39;49m\u001b[43m)\u001b[49m\n\u001b[0;32m      3\u001b[0m \u001b[38;5;28mprint\u001b[39m(m)\n",
      "\u001b[1;31mValueError\u001b[0m: list.remove(x): x not in list"
     ]
    }
   ],
   "source": [
    "print(m)\n",
    "m.remove(400)\n",
    "print(m)"
   ]
  },
  {
   "cell_type": "code",
   "execution_count": 107,
   "id": "1ca6d6dd",
   "metadata": {},
   "outputs": [
    {
     "name": "stdout",
     "output_type": "stream",
     "text": [
      "['Suresh', 12, 56, 45]\n"
     ]
    },
    {
     "ename": "ValueError",
     "evalue": "100 is not in list",
     "output_type": "error",
     "traceback": [
      "\u001b[1;31m---------------------------------------------------------------------------\u001b[0m",
      "\u001b[1;31mValueError\u001b[0m                                Traceback (most recent call last)",
      "Cell \u001b[1;32mIn[107], line 2\u001b[0m\n\u001b[0;32m      1\u001b[0m \u001b[38;5;28mprint\u001b[39m(m)\n\u001b[1;32m----> 2\u001b[0m \u001b[38;5;28mprint\u001b[39m(\u001b[43mm\u001b[49m\u001b[38;5;241;43m.\u001b[39;49m\u001b[43mindex\u001b[49m\u001b[43m(\u001b[49m\u001b[38;5;241;43m100\u001b[39;49m\u001b[43m)\u001b[49m)\n",
      "\u001b[1;31mValueError\u001b[0m: 100 is not in list"
     ]
    }
   ],
   "source": [
    "print(m)\n",
    "print(m.index(100))"
   ]
  },
  {
   "cell_type": "code",
   "execution_count": 108,
   "id": "2c6937f2",
   "metadata": {},
   "outputs": [
    {
     "name": "stdout",
     "output_type": "stream",
     "text": [
      "['Suresh', 12, 56, 45]\n",
      "1\n"
     ]
    }
   ],
   "source": [
    "print(m)\n",
    "print(m.index(12))"
   ]
  },
  {
   "cell_type": "code",
   "execution_count": 109,
   "id": "687c406b",
   "metadata": {},
   "outputs": [
    {
     "name": "stdout",
     "output_type": "stream",
     "text": [
      "['Suresh', 12, 56, 45]\n",
      "['Suresh', 12, 56, 45]\n"
     ]
    }
   ],
   "source": [
    "k = m.copy()\n",
    "print(m)\n",
    "print(k)"
   ]
  },
  {
   "cell_type": "code",
   "execution_count": 111,
   "id": "e1a744aa",
   "metadata": {},
   "outputs": [
    {
     "name": "stdout",
     "output_type": "stream",
     "text": [
      "[45, 89, 45, 12, 45, 78]\n",
      "3\n",
      "0\n"
     ]
    }
   ],
   "source": [
    "n = [45,89,45,12,45,78]\n",
    "print(n)\n",
    "print(n.count(45))\n",
    "print(n.count(23))"
   ]
  },
  {
   "cell_type": "code",
   "execution_count": 112,
   "id": "0a8a35d9",
   "metadata": {},
   "outputs": [
    {
     "name": "stdout",
     "output_type": "stream",
     "text": [
      "[45, 89, 45, 12, 45, 78]\n",
      "[]\n"
     ]
    }
   ],
   "source": [
    "print(n)\n",
    "n.clear()\n",
    "print(n)"
   ]
  },
  {
   "cell_type": "code",
   "execution_count": 114,
   "id": "1c6e7480",
   "metadata": {},
   "outputs": [
    {
     "name": "stdout",
     "output_type": "stream",
     "text": [
      "['Suresh', 12, 56, 45]\n"
     ]
    },
    {
     "ename": "NameError",
     "evalue": "name 'k' is not defined",
     "output_type": "error",
     "traceback": [
      "\u001b[1;31m---------------------------------------------------------------------------\u001b[0m",
      "\u001b[1;31mNameError\u001b[0m                                 Traceback (most recent call last)",
      "Cell \u001b[1;32mIn[114], line 3\u001b[0m\n\u001b[0;32m      1\u001b[0m \u001b[38;5;28mprint\u001b[39m(k)\n\u001b[0;32m      2\u001b[0m \u001b[38;5;28;01mdel\u001b[39;00m k\n\u001b[1;32m----> 3\u001b[0m \u001b[38;5;28mprint\u001b[39m(\u001b[43mk\u001b[49m)\n",
      "\u001b[1;31mNameError\u001b[0m: name 'k' is not defined"
     ]
    }
   ],
   "source": [
    "print(k)\n",
    "del k\n",
    "print(k)"
   ]
  },
  {
   "cell_type": "code",
   "execution_count": 115,
   "id": "a6c043f7",
   "metadata": {},
   "outputs": [
    {
     "name": "stdout",
     "output_type": "stream",
     "text": [
      "[12, 800, 96, 56, 2]\n",
      "[2, 12, 56, 96, 800]\n"
     ]
    }
   ],
   "source": [
    "h = [12,800,96,56,2]\n",
    "print(h)\n",
    "h.sort()\n",
    "print(h)"
   ]
  },
  {
   "cell_type": "code",
   "execution_count": 117,
   "id": "28c93da0",
   "metadata": {},
   "outputs": [
    {
     "name": "stdout",
     "output_type": "stream",
     "text": [
      "[12, 800, 56, 98]\n",
      "[98, 56, 800, 12]\n"
     ]
    }
   ],
   "source": [
    "p = [12,800,56,98]\n",
    "print(p)\n",
    "p.reverse()\n",
    "print(p)"
   ]
  },
  {
   "cell_type": "code",
   "execution_count": 118,
   "id": "95d7c0dd",
   "metadata": {},
   "outputs": [
    {
     "name": "stdout",
     "output_type": "stream",
     "text": [
      "45\n",
      "859.0\n",
      "Prasanna\n",
      "False\n"
     ]
    }
   ],
   "source": [
    "h = [45,859.000,'Prasanna',False]\n",
    "for i in h:\n",
    "    print(i)"
   ]
  },
  {
   "cell_type": "code",
   "execution_count": 119,
   "id": "03399397",
   "metadata": {},
   "outputs": [
    {
     "name": "stdout",
     "output_type": "stream",
     "text": [
      "0 45\n",
      "1 859.0\n",
      "2 Prasanna\n",
      "3 False\n"
     ]
    }
   ],
   "source": [
    "for i in range(len(h)):\n",
    "    print(i,h[i])"
   ]
  },
  {
   "cell_type": "markdown",
   "id": "c6e7eb87",
   "metadata": {},
   "source": [
    "## Tuple:\n",
    "    - it can be representes as () and seperted with ','\n",
    "    - it stores the data in ordered format\n",
    "    - it allows all data type values\n",
    "    - it cant changes the values\n",
    "    - slicing can be done because of index values\n",
    "    - it can be typecasted as tuple()\n",
    "    - it allows duplicate elements"
   ]
  },
  {
   "cell_type": "code",
   "execution_count": 122,
   "id": "8f6aaa95",
   "metadata": {},
   "outputs": [
    {
     "name": "stdout",
     "output_type": "stream",
     "text": [
      "(45, 78.0, 'Tilak', True, (9+5j), 45) <class 'tuple'>\n",
      "45\n"
     ]
    }
   ],
   "source": [
    "j = (45,78.000,'Tilak',True,9+5j,45)\n",
    "print(j,type(j))\n",
    "print(j[0])"
   ]
  },
  {
   "cell_type": "code",
   "execution_count": 123,
   "id": "8b3559e1",
   "metadata": {},
   "outputs": [
    {
     "name": "stdout",
     "output_type": "stream",
     "text": [
      "['__add__', '__class__', '__class_getitem__', '__contains__', '__delattr__', '__dir__', '__doc__', '__eq__', '__format__', '__ge__', '__getattribute__', '__getitem__', '__getnewargs__', '__gt__', '__hash__', '__init__', '__init_subclass__', '__iter__', '__le__', '__len__', '__lt__', '__mul__', '__ne__', '__new__', '__reduce__', '__reduce_ex__', '__repr__', '__rmul__', '__setattr__', '__sizeof__', '__str__', '__subclasshook__', 'count', 'index']\n"
     ]
    }
   ],
   "source": [
    "print(dir(tuple))"
   ]
  },
  {
   "cell_type": "code",
   "execution_count": 126,
   "id": "505f1f7b",
   "metadata": {},
   "outputs": [
    {
     "name": "stdout",
     "output_type": "stream",
     "text": [
      "(45, 78, 45, 96, 'Lalitha')\n",
      "2\n",
      "0\n",
      "0\n"
     ]
    },
    {
     "ename": "ValueError",
     "evalue": "tuple.index(x): x not in tuple",
     "output_type": "error",
     "traceback": [
      "\u001b[1;31m---------------------------------------------------------------------------\u001b[0m",
      "\u001b[1;31mValueError\u001b[0m                                Traceback (most recent call last)",
      "Cell \u001b[1;32mIn[126], line 6\u001b[0m\n\u001b[0;32m      4\u001b[0m \u001b[38;5;28mprint\u001b[39m(h\u001b[38;5;241m.\u001b[39mcount(\u001b[38;5;241m100\u001b[39m))\n\u001b[0;32m      5\u001b[0m \u001b[38;5;28mprint\u001b[39m(h\u001b[38;5;241m.\u001b[39mindex(\u001b[38;5;241m45\u001b[39m))\n\u001b[1;32m----> 6\u001b[0m \u001b[38;5;28mprint\u001b[39m(\u001b[43mh\u001b[49m\u001b[38;5;241;43m.\u001b[39;49m\u001b[43mindex\u001b[49m\u001b[43m(\u001b[49m\u001b[38;5;241;43m-\u001b[39;49m\u001b[38;5;241;43m89\u001b[39;49m\u001b[43m)\u001b[49m)\n",
      "\u001b[1;31mValueError\u001b[0m: tuple.index(x): x not in tuple"
     ]
    }
   ],
   "source": [
    "h = (45,78,45,96,'Lalitha')\n",
    "print(h)\n",
    "print(h.count(45))\n",
    "print(h.count(100))\n",
    "print(h.index(45))\n",
    "print(h.index(-89))"
   ]
  },
  {
   "cell_type": "code",
   "execution_count": 127,
   "id": "16cae553",
   "metadata": {},
   "outputs": [
    {
     "name": "stdout",
     "output_type": "stream",
     "text": [
      "45\n",
      "78\n",
      "45\n",
      "96\n",
      "Lalitha\n"
     ]
    }
   ],
   "source": [
    "for i in h:\n",
    "    print(i)"
   ]
  },
  {
   "cell_type": "code",
   "execution_count": 128,
   "id": "4cce5f43",
   "metadata": {},
   "outputs": [
    {
     "name": "stdout",
     "output_type": "stream",
     "text": [
      "0 45\n",
      "1 78\n",
      "2 45\n",
      "3 96\n",
      "4 Lalitha\n"
     ]
    }
   ],
   "source": [
    "for i in range(len(h)):\n",
    "    print(i,h[i])"
   ]
  },
  {
   "cell_type": "code",
   "execution_count": null,
   "id": "b4dc356b",
   "metadata": {},
   "outputs": [],
   "source": []
  }
 ],
 "metadata": {
  "kernelspec": {
   "display_name": "Python 3 (ipykernel)",
   "language": "python",
   "name": "python3"
  },
  "language_info": {
   "codemirror_mode": {
    "name": "ipython",
    "version": 3
   },
   "file_extension": ".py",
   "mimetype": "text/x-python",
   "name": "python",
   "nbconvert_exporter": "python",
   "pygments_lexer": "ipython3",
   "version": "3.9.13"
  }
 },
 "nbformat": 4,
 "nbformat_minor": 5
}
