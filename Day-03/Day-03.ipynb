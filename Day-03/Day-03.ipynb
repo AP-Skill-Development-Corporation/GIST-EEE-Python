{
 "cells": [
  {
   "cell_type": "markdown",
   "id": "3e6f2d75",
   "metadata": {},
   "source": [
    "# Python Basics"
   ]
  },
  {
   "cell_type": "markdown",
   "id": "b99acbd4",
   "metadata": {},
   "source": [
    "## Variables:\n",
    "    - To store a value\n",
    "    - To change a value\n",
    "    Syntax:\n",
    "        variablename = value"
   ]
  },
  {
   "cell_type": "code",
   "execution_count": 1,
   "id": "db4d9345",
   "metadata": {},
   "outputs": [
    {
     "data": {
      "text/plain": [
       "10"
      ]
     },
     "execution_count": 1,
     "metadata": {},
     "output_type": "execute_result"
    }
   ],
   "source": [
    "a = 10\n",
    "a"
   ]
  },
  {
   "cell_type": "code",
   "execution_count": 2,
   "id": "4d436d3f",
   "metadata": {},
   "outputs": [
    {
     "data": {
      "text/plain": [
       "45.0"
      ]
     },
     "execution_count": 2,
     "metadata": {},
     "output_type": "execute_result"
    }
   ],
   "source": [
    "b = 45.000\n",
    "h = False\n",
    "h\n",
    "b"
   ]
  },
  {
   "cell_type": "code",
   "execution_count": 3,
   "id": "a6218ef1",
   "metadata": {},
   "outputs": [
    {
     "data": {
      "text/plain": [
       "(45.0, False)"
      ]
     },
     "execution_count": 3,
     "metadata": {},
     "output_type": "execute_result"
    }
   ],
   "source": [
    "b = 45.000\n",
    "h = False\n",
    "b,h"
   ]
  },
  {
   "cell_type": "code",
   "execution_count": 4,
   "id": "5458a4ea",
   "metadata": {},
   "outputs": [
    {
     "ename": "ValueError",
     "evalue": "not enough values to unpack (expected 6, got 5)",
     "output_type": "error",
     "traceback": [
      "\u001b[1;31m---------------------------------------------------------------------------\u001b[0m",
      "\u001b[1;31mValueError\u001b[0m                                Traceback (most recent call last)",
      "Cell \u001b[1;32mIn[4], line 1\u001b[0m\n\u001b[1;32m----> 1\u001b[0m a,b,c,d,e,f \u001b[38;5;241m=\u001b[39m \u001b[38;5;241m12\u001b[39m,\u001b[38;5;241m89.00\u001b[39m,\u001b[38;5;124m'\u001b[39m\u001b[38;5;124mprasad\u001b[39m\u001b[38;5;124m'\u001b[39m,\u001b[38;5;28;01mFalse\u001b[39;00m,\u001b[38;5;241m2\u001b[39m\u001b[38;5;241m+\u001b[39m\u001b[38;5;241m5\u001b[39mj\n",
      "\u001b[1;31mValueError\u001b[0m: not enough values to unpack (expected 6, got 5)"
     ]
    }
   ],
   "source": [
    "a,b,c,d,e,f = 12,89.00,'prasad',False,2+5j\n"
   ]
  },
  {
   "cell_type": "code",
   "execution_count": 5,
   "id": "5b4d59c0",
   "metadata": {},
   "outputs": [
    {
     "ename": "ValueError",
     "evalue": "too many values to unpack (expected 4)",
     "output_type": "error",
     "traceback": [
      "\u001b[1;31m---------------------------------------------------------------------------\u001b[0m",
      "\u001b[1;31mValueError\u001b[0m                                Traceback (most recent call last)",
      "Cell \u001b[1;32mIn[5], line 1\u001b[0m\n\u001b[1;32m----> 1\u001b[0m a,b,c,d \u001b[38;5;241m=\u001b[39m \u001b[38;5;241m12\u001b[39m,\u001b[38;5;241m89.00\u001b[39m,\u001b[38;5;124m'\u001b[39m\u001b[38;5;124mprasad\u001b[39m\u001b[38;5;124m'\u001b[39m,\u001b[38;5;28;01mFalse\u001b[39;00m,\u001b[38;5;241m2\u001b[39m\u001b[38;5;241m+\u001b[39m\u001b[38;5;241m5\u001b[39mj\n",
      "\u001b[1;31mValueError\u001b[0m: too many values to unpack (expected 4)"
     ]
    }
   ],
   "source": [
    "a,b,c,d = 12,89.00,'prasad',False,2+5j"
   ]
  },
  {
   "cell_type": "code",
   "execution_count": 2,
   "id": "d45312de",
   "metadata": {},
   "outputs": [
    {
     "name": "stdout",
     "output_type": "stream",
     "text": [
      "12 89.0 prasad False (2+5j)\n"
     ]
    }
   ],
   "source": [
    "a,b,c,d,e = 12,89.00,'prasad',False,2+5j\n",
    "print(a,b,c,d,e)"
   ]
  },
  {
   "cell_type": "code",
   "execution_count": 3,
   "id": "6afdaaf5",
   "metadata": {},
   "outputs": [
    {
     "data": {
      "text/plain": [
       "12"
      ]
     },
     "execution_count": 3,
     "metadata": {},
     "output_type": "execute_result"
    }
   ],
   "source": [
    "a"
   ]
  },
  {
   "cell_type": "code",
   "execution_count": 7,
   "id": "22769cd9",
   "metadata": {},
   "outputs": [
    {
     "name": "stdout",
     "output_type": "stream",
     "text": [
      "2544196414096\n",
      "2544279079888\n",
      "2544279351664\n",
      "140704174991496\n",
      "2544299660048\n"
     ]
    }
   ],
   "source": [
    "print(id(a))\n",
    "print(id(b))\n",
    "print(id(c))\n",
    "print(id(d))\n",
    "print(id(e))"
   ]
  },
  {
   "cell_type": "code",
   "execution_count": 4,
   "id": "757476e4",
   "metadata": {},
   "outputs": [
    {
     "name": "stdout",
     "output_type": "stream",
     "text": [
      "200 200 200 200\n"
     ]
    }
   ],
   "source": [
    "j = k = m = n = 200\n",
    "print(j,k,m,n)"
   ]
  },
  {
   "cell_type": "code",
   "execution_count": 6,
   "id": "0b4f6c73",
   "metadata": {},
   "outputs": [
    {
     "name": "stdout",
     "output_type": "stream",
     "text": [
      "2544196608656\n",
      "2544196608656\n",
      "2544196608656\n",
      "2544196608656\n"
     ]
    }
   ],
   "source": [
    "print(id(n))\n",
    "print(id(m))\n",
    "print(id(k))\n",
    "print(id(j))"
   ]
  },
  {
   "cell_type": "markdown",
   "id": "d9ed105b",
   "metadata": {},
   "source": [
    "## Data Types:\n",
    "    - int -> Only numbers\n",
    "    - float -> decimal values\n",
    "    - string -> enclosed with ' or \"\n",
    "    - boolean -> Either True or False\n",
    "    - complex -> real and imaginary part\n",
    "    - none -> Not empty it exists some value\n",
    "    - All Data Structures [list,tuple,set and dictionary]"
   ]
  },
  {
   "cell_type": "markdown",
   "id": "94e5664f",
   "metadata": {},
   "source": [
    "## Type:\n",
    "    - To know which data type of value can be stored in a variable\n",
    "    Syntax:\n",
    "        type(variablename)"
   ]
  },
  {
   "cell_type": "code",
   "execution_count": 9,
   "id": "5abfe8f9",
   "metadata": {},
   "outputs": [
    {
     "name": "stdout",
     "output_type": "stream",
     "text": [
      "<class 'int'> <class 'float'> <class 'str'> <class 'bool'> <class 'complex'>\n"
     ]
    }
   ],
   "source": [
    "a,b,c,d,e = 12,89.00,'prasad',False,2+5j\n",
    "print(type(a),type(b),type(c),type(d),type(e))"
   ]
  },
  {
   "cell_type": "markdown",
   "id": "8c8b59cc",
   "metadata": {},
   "source": [
    "## Input Formatting:\n",
    "    - To displays an information to a user\n",
    "    - To read a value from user\n",
    "    - By default it stores string data type value\n",
    "    Syntax:\n",
    "        variablename = input(\"information to a user\")"
   ]
  },
  {
   "cell_type": "code",
   "execution_count": 5,
   "id": "80feb08a",
   "metadata": {},
   "outputs": [
    {
     "name": "stdout",
     "output_type": "stream",
     "text": [
      "Enter a value: 7+5j\n",
      "7+5j <class 'str'>\n"
     ]
    }
   ],
   "source": [
    "n = input(\"Enter a value: \")\n",
    "print(n,type(n))"
   ]
  },
  {
   "cell_type": "code",
   "execution_count": 6,
   "id": "dbfe5f3e",
   "metadata": {},
   "outputs": [
    {
     "name": "stdout",
     "output_type": "stream",
     "text": [
      "Enter a value: 45\n",
      "Enter a value: 582.00\n",
      "45 <class 'str'> 582.00 <class 'str'>\n"
     ]
    }
   ],
   "source": [
    "n = input(\"Enter a value: \")\n",
    "m = input(\"Enter a value: \")\n",
    "print(n,type(n),m,type(m))"
   ]
  },
  {
   "cell_type": "code",
   "execution_count": 7,
   "id": "0bfef50e",
   "metadata": {},
   "outputs": [
    {
     "name": "stdout",
     "output_type": "stream",
     "text": [
      "Enter a value: 45\n",
      "Enter a value: 89.056\n",
      "45 <class 'str'> 89.056 <class 'str'>\n"
     ]
    }
   ],
   "source": [
    "n,m = input(\"Enter a value: \"),input(\"Enter a value: \")\n",
    "print(n,type(n),m,type(m))"
   ]
  },
  {
   "cell_type": "markdown",
   "id": "d07683cc",
   "metadata": {},
   "source": [
    "## Typecasting:\n",
    "    - To change the one data type to another data type\n",
    "    - int()\n",
    "    - float()\n",
    "    - str()\n",
    "    - complex()\n",
    "    - bool()\n",
    "    - All Data Structures Like [List,Tuple,Set and Dictionary]"
   ]
  },
  {
   "cell_type": "code",
   "execution_count": 11,
   "id": "3f60ae8c",
   "metadata": {},
   "outputs": [
    {
     "name": "stdout",
     "output_type": "stream",
     "text": [
      "Enter a number: 89\n",
      "89 <class 'int'>\n"
     ]
    }
   ],
   "source": [
    "n = int(input(\"Enter a number: \"))\n",
    "print(n,type(n))"
   ]
  },
  {
   "cell_type": "code",
   "execution_count": 15,
   "id": "f4683aa8",
   "metadata": {},
   "outputs": [
    {
     "name": "stdout",
     "output_type": "stream",
     "text": [
      "Enter a number: 789.256\n",
      "789.256 <class 'float'>\n"
     ]
    }
   ],
   "source": [
    "m = float(input(\"Enter a number: \"))\n",
    "print(m,type(m))"
   ]
  },
  {
   "cell_type": "code",
   "execution_count": 18,
   "id": "8ea8d6c8",
   "metadata": {},
   "outputs": [
    {
     "name": "stdout",
     "output_type": "stream",
     "text": [
      "Enter complex values: 45-7j\n",
      "(45-7j) <class 'complex'>\n"
     ]
    }
   ],
   "source": [
    "p = complex(input(\"Enter complex values: \"))\n",
    "print(p,type(p))"
   ]
  },
  {
   "cell_type": "code",
   "execution_count": 31,
   "id": "6d77071e",
   "metadata": {},
   "outputs": [
    {
     "name": "stdout",
     "output_type": "stream",
     "text": [
      "Enter boolean values: -1\n",
      "True <class 'bool'>\n"
     ]
    }
   ],
   "source": [
    "k = bool(input(\"Enter boolean values: \"))\n",
    "print(k,type(k))"
   ]
  },
  {
   "cell_type": "markdown",
   "id": "05367f8f",
   "metadata": {},
   "source": [
    "## Operators:\n",
    "    - Arithmetic => +,-,*,/,%,//,**\n",
    "    - Assignment => +=,-=,*=,/=,%=,//=\n",
    "    - Relational => ==,!=,>,<,>=,<=\n",
    "    - Logical => AND,OR,NOT\n",
    "    - Bitwise => &&,||,!,>>,<<\n",
    "    - Membership => in,not in\n",
    "    - Identity => is,is not"
   ]
  },
  {
   "cell_type": "code",
   "execution_count": 35,
   "id": "62399cec",
   "metadata": {},
   "outputs": [
    {
     "name": "stdout",
     "output_type": "stream",
     "text": [
      "50\n",
      "48\n"
     ]
    }
   ],
   "source": [
    "a,b = 120,50\n",
    "print(a and b)\n",
    "print(a & b)"
   ]
  },
  {
   "cell_type": "code",
   "execution_count": 36,
   "id": "3464f7df",
   "metadata": {},
   "outputs": [
    {
     "name": "stdout",
     "output_type": "stream",
     "text": [
      "120\n",
      "122\n"
     ]
    }
   ],
   "source": [
    "a,b = 120,50\n",
    "print(a or b)\n",
    "print(a | b)"
   ]
  },
  {
   "cell_type": "markdown",
   "id": "2d9de5c8",
   "metadata": {},
   "source": [
    "```\n",
    "    Input: Enter a value: ?\n",
    "           Enter b value: ?\n",
    "    \n",
    "    Output:\n",
    "           Addition of ? and ? is: ?\n",
    "```"
   ]
  },
  {
   "cell_type": "markdown",
   "id": "dd2b561a",
   "metadata": {},
   "source": [
    "## Output Formatting:\n",
    "    - ,\n",
    "    - format Specifier\n",
    "    - .format\n",
    "    - f string"
   ]
  },
  {
   "cell_type": "code",
   "execution_count": 5,
   "id": "09eccb6d",
   "metadata": {},
   "outputs": [
    {
     "name": "stdout",
     "output_type": "stream",
     "text": [
      "Enter a value: 10\n",
      "Enter b value: 5\n",
      "Addition of 10 and 5 is: 15\n",
      "Substraction of 10 and 5 is: 5\n",
      "Division of 5 and 10 is: 2.0\n",
      "Multiplication of 10 and 5 is: 50\n"
     ]
    }
   ],
   "source": [
    "n,m = int(input(\"Enter a value: \")),int(input(\"Enter b value: \"))\n",
    "print(\"Addition of\",n,\"and\",m,\"is:\",n+m)\n",
    "print(\"Substraction of %d and %d is: %d\"%(n,m,n-m))\n",
    "print(\"Division of {1} and {0} is: {2}\".format(n,m,n/m))\n",
    "print(f\"Multiplication of {n} and {m} is: {n*m}\")"
   ]
  },
  {
   "cell_type": "markdown",
   "id": "bc9de100",
   "metadata": {},
   "source": [
    "## Conditional Statements:\n",
    "    - To check whether a given condition is Either True or False\n",
    "    - if => single case\n",
    "    - if-else => Two cases\n",
    "    - nested if => 3 or more cases\n",
    "    - elif => 3 or more n number of cases"
   ]
  },
  {
   "cell_type": "markdown",
   "id": "ebb983e3",
   "metadata": {},
   "source": [
    "# if\n",
    "    Syntax:\n",
    "    -------\n",
    "        if condition:\n",
    "            //stmnts\n",
    "        Note: () is optional"
   ]
  },
  {
   "cell_type": "code",
   "execution_count": 7,
   "id": "abc63b66",
   "metadata": {},
   "outputs": [
    {
     "name": "stdout",
     "output_type": "stream",
     "text": [
      "Enter a number: 500\n",
      "Entered number is 500 greater then 100\n"
     ]
    }
   ],
   "source": [
    "n = int(input(\"Enter a number: \"))\n",
    "if n>100:\n",
    "    print(f\"Entered number is {n} greater then 100\")"
   ]
  },
  {
   "cell_type": "code",
   "execution_count": 9,
   "id": "d593afb5",
   "metadata": {},
   "outputs": [
    {
     "name": "stdout",
     "output_type": "stream",
     "text": [
      "Enter a number: 10\n"
     ]
    }
   ],
   "source": [
    "m = int(input(\"Enter a number: \"))\n",
    "if m==5:\n",
    "    print(f\"Entered number is {m} and is equal to 5\")"
   ]
  },
  {
   "cell_type": "code",
   "execution_count": 11,
   "id": "cf53e9af",
   "metadata": {},
   "outputs": [
    {
     "name": "stdout",
     "output_type": "stream",
     "text": [
      "Enter a number: 4\n",
      "Enter your name: Rajesh\n",
      "Welcome Rajesh\n"
     ]
    }
   ],
   "source": [
    "k = int(input(\"Enter a number: \"))\n",
    "if k<5:\n",
    "    h = input(\"Enter your name: \")\n",
    "    print(f\"Welcome {h}\")"
   ]
  },
  {
   "cell_type": "code",
   "execution_count": null,
   "id": "a1602178",
   "metadata": {},
   "outputs": [],
   "source": []
  }
 ],
 "metadata": {
  "kernelspec": {
   "display_name": "Python 3 (ipykernel)",
   "language": "python",
   "name": "python3"
  },
  "language_info": {
   "codemirror_mode": {
    "name": "ipython",
    "version": 3
   },
   "file_extension": ".py",
   "mimetype": "text/x-python",
   "name": "python",
   "nbconvert_exporter": "python",
   "pygments_lexer": "ipython3",
   "version": "3.9.13"
  }
 },
 "nbformat": 4,
 "nbformat_minor": 5
}
