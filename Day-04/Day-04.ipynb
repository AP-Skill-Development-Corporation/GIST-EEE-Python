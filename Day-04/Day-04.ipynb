{
 "cells": [
  {
   "cell_type": "markdown",
   "id": "761d1cc9",
   "metadata": {},
   "source": [
    "## if-else:\n",
    "    Syntax:\n",
    "        if condition:\n",
    "            //stmnts\n",
    "        else:\n",
    "            //stmnts"
   ]
  },
  {
   "cell_type": "code",
   "execution_count": 2,
   "id": "87d589f7",
   "metadata": {},
   "outputs": [
    {
     "name": "stdout",
     "output_type": "stream",
     "text": [
      "Enter a value: 9\n",
      "Entered number 9 is less than 10\n"
     ]
    }
   ],
   "source": [
    "n = int(input(\"Enter a value: \"))\n",
    "if n>10:\n",
    "    print(f\"Entered number {n} is greater than 10\")\n",
    "else:\n",
    "    print(f\"Entered number {n} is less than 10\")"
   ]
  },
  {
   "cell_type": "code",
   "execution_count": 4,
   "id": "1de31b72",
   "metadata": {},
   "outputs": [
    {
     "name": "stdout",
     "output_type": "stream",
     "text": [
      "Enter a number: 15\n",
      "Enter your name: tarun\n",
      "Welcome tarun\n"
     ]
    }
   ],
   "source": [
    "k = int(input(\"Enter a number: \"))\n",
    "if k==15:\n",
    "    q = input(\"Enter your name: \")\n",
    "    print(f\"Welcome {q}\")\n",
    "else:\n",
    "    print(\"Invalid choice\")"
   ]
  },
  {
   "cell_type": "markdown",
   "id": "62f0d638",
   "metadata": {},
   "source": [
    "```\n",
    "Input:\n",
    "       Enter a number: ?\n",
    "Output:\n",
    "       Entered number ? is Even\n",
    "               or\n",
    "       Entered number ? is Odd\n",
    "```"
   ]
  },
  {
   "cell_type": "code",
   "execution_count": 6,
   "id": "aeceaf3b",
   "metadata": {},
   "outputs": [
    {
     "name": "stdout",
     "output_type": "stream",
     "text": [
      "Enter a number: 5\n",
      "Entered number 5 is Odd\n"
     ]
    }
   ],
   "source": [
    "m = int(input(\"Enter a number: \"))\n",
    "if m%2==0:\n",
    "    print(f\"Entered number {m} is Even\")\n",
    "else:\n",
    "    print(f\"Entered number {m} is Odd\")"
   ]
  },
  {
   "cell_type": "markdown",
   "id": "b5dd3819",
   "metadata": {},
   "source": [
    "## elif\n",
    "    Syntax:\n",
    "        if condition-1:\n",
    "            //stmnt-1\n",
    "        elif condition-2:\n",
    "            //stmnt-2\n",
    "        elif condition-n:\n",
    "            //stmnt-n\n",
    "            |       |\n",
    "        elif condition-(n-1):\n",
    "            //stmnt-(n-1)\n",
    "        else:\n",
    "            //stmnt-(n-2)"
   ]
  },
  {
   "cell_type": "markdown",
   "id": "d42cbac5",
   "metadata": {},
   "source": [
    "```\n",
    "Input:\n",
    "    Enter Your Age: ?\n",
    "Output:\n",
    "    20 > 18\n",
    "    Your age is ? and Exceeded for 2 years\n",
    "    10 < 18\n",
    "    Your age is ? and you need to wait for 8 years\n",
    "    18 = 18\n",
    "    Your age is ? and your eligible for voting\n",
    "```"
   ]
  },
  {
   "cell_type": "code",
   "execution_count": 10,
   "id": "75417575",
   "metadata": {},
   "outputs": [
    {
     "name": "stdout",
     "output_type": "stream",
     "text": [
      "Enter your age: 18\n",
      "Your age is 18 and you are Eligible for Voting\n"
     ]
    }
   ],
   "source": [
    "n = int(input(\"Enter your age: \"))\n",
    "if n>18:\n",
    "    print(f\"Your age is {n} and Exceeded for {n-18} years\")\n",
    "elif n<18:\n",
    "    print(f\"Your age is {n} and you need to wait for {18-n} years\")\n",
    "else:\n",
    "    print(f\"Your age is {n} and you are Eligible for Voting\")"
   ]
  },
  {
   "cell_type": "code",
   "execution_count": 11,
   "id": "b0773c2b",
   "metadata": {},
   "outputs": [
    {
     "name": "stdout",
     "output_type": "stream",
     "text": [
      "Enter a number: 10\n",
      "Entered number 10 is Divisible by 5\n"
     ]
    }
   ],
   "source": [
    "n = int(input(\"Enter a number: \"))\n",
    "if n%5==0:\n",
    "    print(f\"Entered number {n} is Divisible by 5\")\n",
    "elif n%2==0:\n",
    "    print(f\"Entered number {n} is Even\")\n",
    "elif n%7==0:\n",
    "    print(f\"Entered number {n} is Divisible by 7\")\n",
    "elif n%3==0:\n",
    "    print(f\"Entered number {n} is Divisible by 3\")\n",
    "else:\n",
    "    print(f\"Entered number {n} is Odd\")"
   ]
  },
  {
   "cell_type": "markdown",
   "id": "5bcc585b",
   "metadata": {},
   "source": [
    "## Nested if:\n",
    "    Syntax:\n",
    "        if condition-1:\n",
    "            if condition-2:\n",
    "                //stmnt-1\n",
    "            else:\n",
    "                //stmnt-2\n",
    "        else:\n",
    "            //stmnt-3"
   ]
  },
  {
   "cell_type": "code",
   "execution_count": 17,
   "id": "2e9fc9e0",
   "metadata": {},
   "outputs": [
    {
     "name": "stdout",
     "output_type": "stream",
     "text": [
      "Enter Username: ad\n",
      "Enter Password: 13\n",
      "Invalid Username/Password\n"
     ]
    }
   ],
   "source": [
    "username = \"ramesh\"\n",
    "password = \"ra123\"\n",
    "u = input(\"Enter Username: \")\n",
    "p = input(\"Enter Password: \")\n",
    "if u==username:\n",
    "    if p==password:\n",
    "        print(f\"Welcome User {u}\")\n",
    "    else:\n",
    "        print(\"Invalid Username/Password\")\n",
    "else:\n",
    "    print(\"Invalid Username/Password\")"
   ]
  },
  {
   "cell_type": "code",
   "execution_count": 21,
   "id": "1c2eeb2f",
   "metadata": {},
   "outputs": [
    {
     "name": "stdout",
     "output_type": "stream",
     "text": [
      "Enter Username: ramesh\n",
      "Enter Password: ra123\n",
      "Welcome User ramesh\n"
     ]
    }
   ],
   "source": [
    "username = \"ramesh\"\n",
    "password = \"ra123\"\n",
    "u = input(\"Enter Username: \")\n",
    "p = input(\"Enter Password: \")\n",
    "if u==username and p==password:\n",
    "    print(f\"Welcome User {u}\")\n",
    "else:\n",
    "    print(\"Invalid Username/Password\")"
   ]
  },
  {
   "cell_type": "code",
   "execution_count": 24,
   "id": "d2852c1e",
   "metadata": {},
   "outputs": [
    {
     "name": "stdout",
     "output_type": "stream",
     "text": [
      "Enter Username: prasad\n",
      "Enter Password: r12\n",
      "Welcome User prasad\n"
     ]
    }
   ],
   "source": [
    "us,pd = 'prasad','r12'\n",
    "user = input(\"Enter Username: \")\n",
    "if user==us:\n",
    "    pwd = input(\"Enter Password: \")\n",
    "    if pwd==pd:\n",
    "        print(f\"Welcome User {user}\")\n",
    "    else:\n",
    "        print(f\"Invalid Password\")\n",
    "else:\n",
    "    print(f\"Invalid Username {user}\")"
   ]
  },
  {
   "cell_type": "markdown",
   "id": "c91d472a",
   "metadata": {},
   "source": [
    "## Control statements:\n",
    "    - To Control the flow of Execution\n",
    "    - Loops\n",
    "    - Jumping Statements\n",
    "    - Inner Loops"
   ]
  },
  {
   "cell_type": "markdown",
   "id": "8c830562",
   "metadata": {},
   "source": [
    "## Loops or Iterations or Repetitions:\n",
    "    - To iterate the statements for n number of times untill the condition is False\n",
    "    - for => Known ranges\n",
    "    - while => Known and Unknown ranges"
   ]
  },
  {
   "cell_type": "markdown",
   "id": "715eae5d",
   "metadata": {},
   "source": [
    "# for\n",
    "    Syntax:\n",
    "        for iterationvariablename in iterator:\n",
    "            //stmnts\n",
    "                or\n",
    "        for iterationvariablename in range(start,stop,step):\n",
    "            //stmnts"
   ]
  },
  {
   "cell_type": "markdown",
   "id": "d5169492",
   "metadata": {},
   "source": [
    "# range():\n",
    "    - range(stop):\n",
    "        - By default it starts with 0\n",
    "        - It stops with stop-1\n",
    "        - By default it increments with +1\n",
    "        Ex:\n",
    "            range(5):\n",
    "                0 1 2 3 4\n",
    "    - range(start,stop):\n",
    "        - Exactly it starts with start value\n",
    "        - It stops with stop-1\n",
    "        - By default it increments with +1\n",
    "        Ex:\n",
    "            range(2,10):\n",
    "                2 3 4 5 6 7 8 9\n",
    "    - range(start,stop,step):\n",
    "        - Exactly it starts with start value\n",
    "        - It stops with stop-1\n",
    "        - It increments with step value\n",
    "        Ex:\n",
    "            range(10,100,10):\n",
    "                10 20 30 40 50 60 70 80 90"
   ]
  },
  {
   "cell_type": "code",
   "execution_count": 30,
   "id": "f60f9c3e",
   "metadata": {},
   "outputs": [
    {
     "name": "stdout",
     "output_type": "stream",
     "text": [
      "Enter a range: 10\n",
      "0 1 2 3 4 5 6 7 8 9 "
     ]
    }
   ],
   "source": [
    "n = int(input(\"Enter a range: \"))\n",
    "for i in range(n):\n",
    "    print(i,end=\" \")"
   ]
  },
  {
   "cell_type": "code",
   "execution_count": 35,
   "id": "61ed7cd3",
   "metadata": {},
   "outputs": [
    {
     "name": "stdout",
     "output_type": "stream",
     "text": [
      "Enter a range: 10\n",
      "10 9 8 7 6 5 4 3 2 1 0 "
     ]
    }
   ],
   "source": [
    "n = int(input(\"Enter a range: \"))\n",
    "for i in range(n+1):\n",
    "    print(n-i,end=\" \")"
   ]
  },
  {
   "cell_type": "code",
   "execution_count": 36,
   "id": "89a17380",
   "metadata": {},
   "outputs": [
    {
     "name": "stdout",
     "output_type": "stream",
     "text": [
      "Enter starting range: 100\n",
      "Enter ending range: 120\n",
      "100 101 102 103 104 105 106 107 108 109 110 111 112 113 114 115 116 117 118 119 "
     ]
    }
   ],
   "source": [
    "n,m = int(input(\"Enter starting range: \")),int(input(\"Enter ending range: \"))\n",
    "for i in range(n,m):\n",
    "    print(i,end=\" \")"
   ]
  },
  {
   "cell_type": "code",
   "execution_count": 37,
   "id": "48333ada",
   "metadata": {},
   "outputs": [
    {
     "name": "stdout",
     "output_type": "stream",
     "text": [
      "Enter starting range: 10\n",
      "Enter ending range: 20\n",
      "20 19 18 17 16 15 14 13 12 11 "
     ]
    }
   ],
   "source": [
    "n,m = int(input(\"Enter starting range: \")),int(input(\"Enter ending range: \"))\n",
    "for i in range(n,m):\n",
    "    print(n+m-i,end=\" \")"
   ]
  },
  {
   "cell_type": "code",
   "execution_count": null,
   "id": "14353d56",
   "metadata": {},
   "outputs": [],
   "source": [
    "202U1A0201\n",
    "202U1A0202\n",
    "|       |\n",
    "202U1A0209\n",
    "202U1A0210"
   ]
  },
  {
   "cell_type": "code",
   "execution_count": 47,
   "id": "311b3719",
   "metadata": {},
   "outputs": [
    {
     "name": "stdout",
     "output_type": "stream",
     "text": [
      "Enter a range: 11\n",
      "01\n",
      "02\n",
      "03\n",
      "04\n",
      "05\n",
      "06\n",
      "07\n",
      "08\n",
      "09\n",
      "10\n",
      "11\n"
     ]
    }
   ],
   "source": [
    "n =int(input(\"Enter a range: \"))\n",
    "for i in range(n):\n",
    "    if i+1<=9:\n",
    "        print(f\"0{i+1}\")\n",
    "    else:\n",
    "        print(f\"{i+1}\")"
   ]
  },
  {
   "cell_type": "code",
   "execution_count": 51,
   "id": "0139ae73",
   "metadata": {},
   "outputs": [
    {
     "name": "stdout",
     "output_type": "stream",
     "text": [
      "12\n",
      "202U1A0201 192U1A0201\n",
      "202U1A0202 192U1A0202\n",
      "202U1A0203 192U1A0203\n",
      "202U1A0204 192U1A0204\n",
      "202U1A0205 192U1A0205\n",
      "202U1A0206 192U1A0206\n",
      "202U1A0207 192U1A0207\n",
      "202U1A0208 192U1A0208\n",
      "202U1A0209 192U1A0209\n",
      "202U1A0210 192U1A0210\n",
      "202U1A0211 192U1A0211\n",
      "202U1A0212 192U1A0212\n"
     ]
    }
   ],
   "source": [
    "n = int(input())\n",
    "for i in range(n):\n",
    "    print(\"202U1A02{:02} 192U1A02{:02}\".format(i+1,i+1))"
   ]
  },
  {
   "cell_type": "code",
   "execution_count": null,
   "id": "e0cf798e",
   "metadata": {},
   "outputs": [],
   "source": []
  }
 ],
 "metadata": {
  "kernelspec": {
   "display_name": "Python 3 (ipykernel)",
   "language": "python",
   "name": "python3"
  },
  "language_info": {
   "codemirror_mode": {
    "name": "ipython",
    "version": 3
   },
   "file_extension": ".py",
   "mimetype": "text/x-python",
   "name": "python",
   "nbconvert_exporter": "python",
   "pygments_lexer": "ipython3",
   "version": "3.9.13"
  }
 },
 "nbformat": 4,
 "nbformat_minor": 5
}
